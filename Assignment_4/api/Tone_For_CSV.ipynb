{
 "cells": [
  {
   "cell_type": "markdown",
   "metadata": {},
   "source": [
    "# Analyzing Tone for CSV file"
   ]
  },
  {
   "cell_type": "markdown",
   "metadata": {},
   "source": [
    "We are analyzing tone for the 1200 lyrics(Training+Validation) data, using tone analyzer api"
   ]
  },
  {
   "cell_type": "code",
   "execution_count": 9,
   "metadata": {},
   "outputs": [],
   "source": [
    "from flask import Flask, render_template, redirect, url_for, request\n",
    "import requests as rq\n",
    "import json\n",
    "from watson_developer_cloud import ToneAnalyzerV3\n",
    "import re\n",
    "import os \n",
    "import pandas as pd\n",
    "import operator\n",
    "\n",
    "df = pd.read_csv(os.getcwd()+ \"data/valid_lyrics_200.csv\")\n",
    "df=df.fillna(\" \")\n",
    "\n",
    "lyrics_list = []\n",
    "\n",
    "def replaceMultiple(mainString, toBeReplaced, newString):\n",
    "        # Iterate over the strings to be replaced\n",
    "        for elem in toBeReplaced :\n",
    "            # Check if string is in the main string\n",
    "            if elem in mainString :                        \n",
    "                # Replace the string\n",
    "                mainString = mainString.replace(elem, newString)\n",
    "        return  mainString \n",
    "\n",
    "for lyric in df['lyrics']:\n",
    "    lyric = replaceMultiple(lyric,['\\n','...','. . .','{','}','(',')'],' ')\n",
    "    lyric = re.sub(' +',' ',lyric)\n",
    "    lyrics_list.append(lyric)\n",
    "\n",
    "def toneAnalyzer(lyrics):\n",
    "    tone_analyzer = ToneAnalyzerV3(\n",
    "        version='2016-05-19',\n",
    "        iam_apikey='xRTFsyatVym6NfGc64o5oLwBfVABQicz396CjHuXy5y4',\n",
    "        url='https://gateway-wdc.watsonplatform.net/tone-analyzer/api'\n",
    "    )\n",
    "\n",
    "    tone_analysis = tone_analyzer.tone(\n",
    "        {'text': lyrics},\n",
    "        'application/json',\n",
    "        sentences = 'false',\n",
    "        tones = 'emotion'\n",
    "    ).get_result()\n",
    "    tone= json.dumps(tone_analysis, indent=2)\n",
    "    # converting the string obtained from json.dumps() to json format\n",
    "    dcmnt_tone_json = json.loads(tone)\n",
    "    dcmnt_tone = dcmnt_tone_json['document_tone']['tone_categories']\n",
    "\n",
    "    \n",
    "    # retrieving the dictionary in the list obtained in dcmnt_tone\n",
    "    tone_category_dict = dcmnt_tone[0]\n",
    "    \n",
    "    dict_emotion = {}\n",
    "    happy_sad_dict = {}\n",
    "    for val in tone_category_dict['tones']:\n",
    "        dict_score_emotion = {val['tone_name']:val['score']}\n",
    "        dict_emotion.update(dict_score_emotion)\n",
    "        if val['tone_name'] == 'Joy' or val['tone_name'] == 'Sadness':\n",
    "            happy_sad = {val['tone_name']:val['score']}\n",
    "            happy_sad_dict.update(happy_sad)   \n",
    "    final_tone = max(happy_sad_dict.items(), key=operator.itemgetter(1))[0]\n",
    "    if final_tone == 'Joy':\n",
    "        final_tone = 'happy'\n",
    "    else:\n",
    "        final_tone = 'sad'\n",
    "    return final_tone\n",
    "\n",
    "tone_list1=[]\n",
    "for l in lyrics_list:\n",
    "    tone=toneAnalyzer(l)\n",
    "    #print(tone)\n",
    "    tone_list1.append(tone)\n",
    "    #print(\"\")\n"
   ]
  },
  {
   "cell_type": "markdown",
   "metadata": {},
   "source": [
    "# Calculation of Confusion Matrix"
   ]
  },
  {
   "cell_type": "code",
   "execution_count": 26,
   "metadata": {},
   "outputs": [
    {
     "data": {
      "image/png": "[encoded data removed]",
      "text/plain": [
       "<Figure size 288x144 with 1 Axes>"
      ]
     },
     "metadata": {
      "needs_background": "light"
     },
     "output_type": "display_data"
    }
   ],
   "source": [
    "import matplotlib as mpl\n",
    "import numpy as np\n",
    "from sklearn import metrics\n",
    "from sklearn.metrics import confusion_matrix\n",
    "import seaborn as sns\n",
    "import matplotlib.pyplot as plt\n",
    "\n",
    "#validation data\n",
    "X_valid = df['lyrics'].values \n",
    "y_valid = df['mood'].values\n",
    "\n",
    "#predicted values\n",
    "y_true=tone_list1\n",
    "\n",
    "cm = metrics.confusion_matrix(y_valid, y_true)\n",
    "\n",
    "np.set_printoptions(suppress=True)\n",
    "mpl.rc(\"figure\", figsize=(4, 2))\n",
    "\n",
    "hm = sns.heatmap(cm, \n",
    "            cbar=False,\n",
    "            annot=True, \n",
    "            square=True,\n",
    "            fmt='d',\n",
    "            yticklabels=['happy','sad'],\n",
    "            xticklabels=['happy','sad'],\n",
    "            cmap='Blues'\n",
    "            )\n",
    "plt.title('Confusion matrix - Validation dataset')\n",
    "plt.ylabel('actual class')\n",
    "plt.xlabel('predicted class')\n",
    "plt.tight_layout()\n",
    "plt.savefig('confmat_valid.eps', dpi=300)\n",
    "plt.show()"
   ]
  },
  {
   "cell_type": "markdown",
   "metadata": {},
   "source": [
    "# Inference\n",
    "Heat map infers the highest number with the most dark shade, which is for false negative.\n",
    "\n",
    "1.True positive - Tone is happy and we predicted happy\n",
    "\n",
    "2.False Positive - Tone is happy but we predicted sad\n",
    "\n",
    "3.False negative - Tone is sad but we predicted happy\n",
    "\n",
    "4.True positive - Tone is sad and we predicted sad"
   ]
  },
  {
   "cell_type": "code",
   "execution_count": 33,
   "metadata": {},
   "outputs": [
    {
     "name": "stdout",
     "output_type": "stream",
     "text": [
      "True positive =  431\n",
      "False positive =  120\n",
      "False negative =  493\n",
      "True negative =  156\n"
     ]
    },
    {
     "data": {
      "text/plain": [
       "(431, 120, 493, 156)"
      ]
     },
     "execution_count": 33,
     "metadata": {},
     "output_type": "execute_result"
    }
   ],
   "source": [
    "#retriving values of TP,FP,FN and TN from confusion matrix\n",
    "\n",
    "def print_confusion_matrix(y_valid, y_true):\n",
    "    cm = confusion_matrix(y_valid, y_true)\n",
    "    print('True positive = ', cm[0][0])\n",
    "    print('False positive = ', cm[0][1])\n",
    "    print('False negative = ', cm[1][0])\n",
    "    print('True negative = ', cm[1][1])\n",
    "    #print(TP,FP,FN,TN)\n",
    "    return(cm[0][0], cm[0][1], cm[1][0], cm[1][1])\n",
    "\n",
    "print_confusion_matrix(y_valid, y_true)"
   ]
  },
  {
   "cell_type": "markdown",
   "metadata": {},
   "source": [
    "# Precision, Recall, F1 Score, Error Rate and Accuracy"
   ]
  },
  {
   "cell_type": "code",
   "execution_count": 37,
   "metadata": {},
   "outputs": [
    {
     "name": "stdout",
     "output_type": "stream",
     "text": [
      "Precision =  0.7822141560798548\n",
      "Recall =  0.7030995106035889\n",
      "F1 Score =  0.7405498281786941\n",
      "F1 % =  74.0549828178694\n",
      "Error Rate =  0.5108333333333334\n",
      "Accuracy =  0.48916666666666664\n"
     ]
    }
   ],
   "source": [
    "TP = cm[0][0]\n",
    "FP = cm[0][1]\n",
    "FN = cm[1][0]\n",
    "TN = cm[1][1]\n",
    "\n",
    "#Calculating precision\n",
    "def Precision_Cal(TP,FP):\n",
    "    return TP/(TP+FP)\n",
    "\n",
    "#Calculating recall\n",
    "def Recall_Cal(TP,FP,FN):\n",
    "    return TP/(FP+FN)\n",
    "\n",
    "#Calculating F1 score\n",
    "def F1_Cal(precision,recall):\n",
    "    f1 = 2*((precision * recall)/(precision+recall))\n",
    "    print('F1 Score = ', f1)\n",
    "    print('F1 % = ', f1*100)\n",
    "\n",
    "#Calculating Error Rate\n",
    "def Err_Cal(TP,FP,FN,TN):\n",
    "    return ((FP+FN)/(TP+FP+FN+TN))\n",
    "\n",
    "precision = Precision_Cal(TP,FP)\n",
    "print('Precision = ', precision)\n",
    "\n",
    "recall = Recall_Cal(TP,FP,FN)\n",
    "print('Recall = ', recall)\n",
    "\n",
    "F1_Cal(precision,recall)\n",
    "\n",
    "Err_Rate = Err_Cal(TP,FP,FN,TN)\n",
    "print('Error Rate = ', Err_Rate)\n",
    "\n",
    "#Accuracy is 1-error rate\n",
    "print('Accuracy = ', 1-Err_Rate)"
   ]
  },
  {
   "cell_type": "markdown",
   "metadata": {},
   "source": [
    "The best error rate is 0.0, whereas the worst is 1.0 and reverse for Accuracy"
   ]
  }
 ],
 "metadata": {
  "kernelspec": {
   "display_name": "Python 3",
   "language": "python",
   "name": "python3"
  },
  "language_info": {
   "codemirror_mode": {
    "name": "ipython",
    "version": 3
   },
   "file_extension": ".py",
   "mimetype": "text/x-python",
   "name": "python",
   "nbconvert_exporter": "python",
   "pygments_lexer": "ipython3",
   "version": "3.7.1"
  }
 },
 "nbformat": 4,
 "nbformat_minor": 2
}
