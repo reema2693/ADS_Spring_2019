{
 "cells": [
  {
   "cell_type": "code",
   "execution_count": 16,
   "metadata": {},
   "outputs": [
    {
     "name": "stdout",
     "output_type": "stream",
     "text": [
      "0 rows written\n"
     ]
    }
   ],
   "source": [
    "import requests\n",
    "from bs4 import BeautifulSoup, Comment\n",
    "import pandas as pd\n",
    "import re\n",
    "import matplotlib.pyplot as plt\n",
    "\n",
    "url='https://statestreet.wd1.myworkdayjobs.com/Global'\n",
    "content = requests.get(url).text\n",
    "\n",
    "#initalizing an empty dictionary that would be written as Pandas Dataframe and then CSV\n",
    "d = {'title':[],'links':[],'class':[]}\n",
    "\n",
    "#initializing blog hosting category\n",
    "#cat = {'blogspot':0,'wordpress':0,'others':0}\n",
    "soup = BeautifulSoup(content, \"html.parser\")\n",
    "#print(soup)\n",
    "for link in soup.find_all('floatingCirclesG',):\n",
    "    if len(link.text.strip()) > 1 and bool(re.match('^http',link['href'])) and not bool(re.search('bbt.wd1.myworkdayjobs.com',link['href'])):\n",
    "        d['title'].append(link.text)\n",
    "        d['links'].append(link['href'])\n",
    "\n",
    "list1 = pd.DataFrame(d).set_index('title')\n",
    "#print (list.head())\n",
    "list1.to_csv('/Users/rajsharavan/Desktop/Python/list111.csv', encoding='utf-8')\n",
    "print(str(len(list1.index))+' rows written')"
   ]
  },
  {
   "cell_type": "code",
   "execution_count": null,
   "metadata": {},
   "outputs": [],
   "source": [
    "import requests\n",
    "from bs4 import BeautifulSoup\n",
    "from urllib.parse import urljoin\n",
    "\n",
    "url = 'https://bbt.wd1.myworkdayjobs.com/Careers'\n",
    "res = requests.get(url)\n",
    "\n",
    "soup = BeautifulSoup(res.content, 'lxml')\n",
    "for link in soup.select('[itemprop=title]'):\n",
    "    absolute_link = urljoin(url,link.get('href'))\n",
    "#    print(absolute_link)"
   ]
  },
  {
   "cell_type": "code",
   "execution_count": 50,
   "metadata": {},
   "outputs": [
    {
     "name": "stdout",
     "output_type": "stream",
     "text": [
      "30\n",
      "31\n",
      "31\n",
      "4\n",
      "4\n"
     ]
    }
   ],
   "source": [
    "import PyPDF2 \n",
    "  \n",
    "def PDFsplit(pdf, splits): \n",
    "    # creating input pdf file object \n",
    "    pdfFileObj = open(pdf, 'rb') \n",
    "      \n",
    "    # creating pdf reader object \n",
    "    pdfReader = PyPDF2.PdfFileReader(pdfFileObj) \n",
    "      \n",
    "    # starting index of first slice \n",
    "    start = 0\n",
    "      \n",
    "    # starting index of last slice \n",
    "    end = splits[0] \n",
    "      \n",
    "    for i in range(len(splits)+1): \n",
    "        # creating pdf writer object for (i+1)th split \n",
    "        pdfWriter = PyPDF2.PdfFileWriter() \n",
    "          \n",
    "        # output pdf file name \n",
    "        outputpdf = pdf.split('.pdf')[0] + str(i) + '.pdf'\n",
    "        #print(outputpdf)\n",
    "          \n",
    "        # adding pages to pdf writer object \n",
    "        for page in range(start,end): \n",
    "            pdfWriter.addPage(pdfReader.getPage(page)) \n",
    "          \n",
    "        # writing split pdf pages to pdf file \n",
    "        with open(outputpdf, \"wb\") as f: \n",
    "            pdfWriter.write(f) \n",
    "  \n",
    "        # interchanging page split start position for next split \n",
    "        start = end \n",
    "        print(end)\n",
    "        try: \n",
    "            # setting split end positon for next split \n",
    "            end = splits[i+1 ]\n",
    "        except IndexError: \n",
    "            # setting split end position for last split \n",
    "            end = pdfReader.numPages \n",
    "          \n",
    "    # closing the input pdf file object \n",
    "    pdfFileObj.close() \n",
    "              \n",
    "def main(): \n",
    "    # pdf file to split \n",
    "    pdf = '/Users/rajsharavan/Desktop/Python/Sample3.pdf'\n",
    "      \n",
    "    # split page positions \n",
    "    splits = [30,3] \n",
    "      \n",
    "    # calling PDFsplit function to split pdf \n",
    "    PDFsplit(pdf, splits) \n",
    "if __name__ == \"__main__\": \n",
    "    # calling the main function \n",
    "    main() "
   ]
  },
  {
   "cell_type": "code",
   "execution_count": 12,
   "metadata": {},
   "outputs": [
    {
     "name": "stdout",
     "output_type": "stream",
     "text": [
      "range(0, 108)\n"
     ]
    }
   ],
   "source": [
    "from PyPDF2 import PdfFileWriter, PdfFileReader\n",
    "\n",
    "inputpdf = PdfFileReader(open('/Users/rajsharavan/Desktop/Python/Sample3.pdf', 'rb'))\n",
    "print(range(inputpdf.numPages))\n",
    "for i in range(inputpdf.numPages):\n",
    "    output = PdfFileWriter()\n",
    "    output.addPage(inputpdf.getPage(i))"
   ]
  },
  {
   "cell_type": "code",
   "execution_count": null,
   "metadata": {},
   "outputs": [],
   "source": [
    "with open(\"document-page%s.pdf\" % i, \"wb\") as outputStream:\n",
    "        output.write(outputStream)"
   ]
  },
  {
   "cell_type": "code",
   "execution_count": 41,
   "metadata": {},
   "outputs": [
    {
     "name": "stderr",
     "output_type": "stream",
     "text": [
      "PdfReadWarning: Xref table not zero-indexed. ID numbers for objects will be corrected. [pdf.py:1736]\n"
     ]
    }
   ],
   "source": [
    "import PyPDF2 \n",
    "  \n",
    "def PDFsplit(pdf, splits): \n",
    "    # creating input pdf file object \n",
    "    pdfFileObj = open(pdf, 'rb') \n",
    "      \n",
    "    # creating pdf reader object \n",
    "    pdfReader = PyPDF2.PdfFileReader(pdfFileObj) \n",
    "      \n",
    "    # starting index of first slice \n",
    "    start = 0\n",
    "      \n",
    "    # starting index of last slice \n",
    "    end = splits[0] \n",
    "\n",
    "    for i in range(len(splits)+2): \n",
    "#        print(len(splits)+2)\n",
    "        # creating pdf writer object for (i+1)th split \n",
    "        pdfWriter = PyPDF2.PdfFileWriter() \n",
    "#        print(str(i))\n",
    "        # output pdf file name \n",
    "        outputpdf = pdf.split('.pdf')[0] + str(i) + '.pdf'\n",
    "#        print(range(start,end))\n",
    "        # adding pages to pdf writer object \n",
    "        for page in range(start,end): \n",
    "            pdfWriter.addPage(pdfReader.getPage(page)) \n",
    "          \n",
    "        # writing split pdf pages to pdf file \n",
    "        with open(outputpdf, \"wb\") as f: \n",
    "            pdfWriter.write(f) \n",
    "  \n",
    "        # interchanging page split start position for next split \n",
    "        start = end \n",
    "        try: \n",
    "            # setting split end positon for next split \n",
    "            end = splits[i+1] \n",
    "        except IndexError: \n",
    "            # setting split end position for last split \n",
    "            end = pdfReader.numPages \n",
    "          \n",
    "    # closing the input pdf file object \n",
    "    pdfFileObj.close() \n",
    "              \n",
    "def main(): \n",
    "    # pdf file to split \n",
    "    pdf = '/Users/rajsharavan/Desktop/Python/Splitted PDF/Sample4.pdf'\n",
    "      \n",
    "    # split page positions \n",
    "    splits = [40,80,120,160]\n",
    "      \n",
    "    # calling PDFsplit function to split pdf \n",
    "    PDFsplit(pdf, splits) \n",
    "    \n",
    "if __name__ == \"__main__\": \n",
    "    # calling the main function \n",
    "    main() "
   ]
  },
  {
   "cell_type": "code",
   "execution_count": null,
   "metadata": {},
   "outputs": [],
   "source": []
  }
 ],
 "metadata": {
  "kernelspec": {
   "display_name": "Python 3",
   "language": "python",
   "name": "python3"
  },
  "language_info": {
   "codemirror_mode": {
    "name": "ipython",
    "version": 3
   },
   "file_extension": ".py",
   "mimetype": "text/x-python",
   "name": "python",
   "nbconvert_exporter": "python",
   "pygments_lexer": "ipython3",
   "version": "3.7.1"
  }
 },
 "nbformat": 4,
 "nbformat_minor": 2
}
