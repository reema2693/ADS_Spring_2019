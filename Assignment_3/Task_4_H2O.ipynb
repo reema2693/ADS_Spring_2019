{
 "cells": [
  {
   "cell_type": "markdown",
   "metadata": {},
   "source": [
    "# Start H2O"
   ]
  },
  {
   "cell_type": "code",
   "execution_count": 2,
   "metadata": {},
   "outputs": [
    {
     "name": "stdout",
     "output_type": "stream",
     "text": [
      "Checking whether there is an H2O instance running at http://localhost:54321..... not found.\n",
      "Attempting to start a local H2O server...\n",
      "  Java Version: java version \"1.8.0_181\"; Java(TM) SE Runtime Environment (build 1.8.0_181-b13); Java HotSpot(TM) 64-Bit Server VM (build 25.181-b13, mixed mode)\n",
      "  Starting server from /Users/rajsharavan/miniconda3/lib/python2.7/site-packages/h2o/backend/bin/h2o.jar\n",
      "  Ice root: /var/folders/w4/4sg55yq56ln4zzs5jb0j7xjr0000gn/T/tmp9easHl\n",
      "  JVM stdout: /var/folders/w4/4sg55yq56ln4zzs5jb0j7xjr0000gn/T/tmp9easHl/h2o_rajsharavan_started_from_python.out\n",
      "  JVM stderr: /var/folders/w4/4sg55yq56ln4zzs5jb0j7xjr0000gn/T/tmp9easHl/h2o_rajsharavan_started_from_python.err\n",
      "  Server is running at http://127.0.0.1:54321\n",
      "Connecting to H2O server at http://127.0.0.1:54321... successful.\n"
     ]
    },
    {
     "data": {
      "text/html": [
       "<div style=\"overflow:auto\"><table style=\"width:50%\"><tr><td>H2O cluster uptime:</td>\n",
       "<td>02 secs</td></tr>\n",
       "<tr><td>H2O cluster timezone:</td>\n",
       "<td>America/New_York</td></tr>\n",
       "<tr><td>H2O data parsing timezone:</td>\n",
       "<td>UTC</td></tr>\n",
       "<tr><td>H2O cluster version:</td>\n",
       "<td>3.22.1.6</td></tr>\n",
       "<tr><td>H2O cluster version age:</td>\n",
       "<td>8 days </td></tr>\n",
       "<tr><td>H2O cluster name:</td>\n",
       "<td>H2O_from_python_rajsharavan_d9c1ad</td></tr>\n",
       "<tr><td>H2O cluster total nodes:</td>\n",
       "<td>1</td></tr>\n",
       "<tr><td>H2O cluster free memory:</td>\n",
       "<td>1.778 Gb</td></tr>\n",
       "<tr><td>H2O cluster total cores:</td>\n",
       "<td>4</td></tr>\n",
       "<tr><td>H2O cluster allowed cores:</td>\n",
       "<td>4</td></tr>\n",
       "<tr><td>H2O cluster status:</td>\n",
       "<td>accepting new members, healthy</td></tr>\n",
       "<tr><td>H2O connection url:</td>\n",
       "<td>http://127.0.0.1:54321</td></tr>\n",
       "<tr><td>H2O connection proxy:</td>\n",
       "<td>None</td></tr>\n",
       "<tr><td>H2O internal security:</td>\n",
       "<td>False</td></tr>\n",
       "<tr><td>H2O API Extensions:</td>\n",
       "<td>Amazon S3, XGBoost, Algos, AutoML, Core V3, Core V4</td></tr>\n",
       "<tr><td>Python version:</td>\n",
       "<td>2.7.15 final</td></tr></table></div>"
      ],
      "text/plain": [
       "--------------------------  ---------------------------------------------------\n",
       "H2O cluster uptime:         02 secs\n",
       "H2O cluster timezone:       America/New_York\n",
       "H2O data parsing timezone:  UTC\n",
       "H2O cluster version:        3.22.1.6\n",
       "H2O cluster version age:    8 days\n",
       "H2O cluster name:           H2O_from_python_rajsharavan_d9c1ad\n",
       "H2O cluster total nodes:    1\n",
       "H2O cluster free memory:    1.778 Gb\n",
       "H2O cluster total cores:    4\n",
       "H2O cluster allowed cores:  4\n",
       "H2O cluster status:         accepting new members, healthy\n",
       "H2O connection url:         http://127.0.0.1:54321\n",
       "H2O connection proxy:\n",
       "H2O internal security:      False\n",
       "H2O API Extensions:         Amazon S3, XGBoost, Algos, AutoML, Core V3, Core V4\n",
       "Python version:             2.7.15 final\n",
       "--------------------------  ---------------------------------------------------"
      ]
     },
     "metadata": {},
     "output_type": "display_data"
    }
   ],
   "source": [
    "import h2o\n",
    "from h2o.automl import H2OAutoML\n",
    "h2o.init()"
   ]
  },
  {
   "cell_type": "markdown",
   "metadata": {},
   "source": [
    "# Load Data"
   ]
  },
  {
   "cell_type": "code",
   "execution_count": 3,
   "metadata": {},
   "outputs": [
    {
     "name": "stdout",
     "output_type": "stream",
     "text": [
      "Parse progress: |█████████████████████████████████████████████████████████| 100%\n"
     ]
    }
   ],
   "source": [
    "# Use local data file or download from GitHub\n",
    "import os\n",
    "docker_data_path = os.getcwd()+ \"/Data/FT_data_final.csv\"\n",
    "if os.path.isfile(docker_data_path):\n",
    "    data_path = docker_data_path\n",
    "\n",
    "# Load data into H2O\n",
    "df = h2o.import_file(data_path)"
   ]
  },
  {
   "cell_type": "code",
   "execution_count": 4,
   "metadata": {},
   "outputs": [
    {
     "name": "stdout",
     "output_type": "stream",
     "text": [
      "Rows:254190\n",
      "Cols:79\n",
      "\n",
      "\n"
     ]
    },
    {
     "data": {
      "text/html": [
       "<table>\n",
       "<thead>\n",
       "<tr><th>       </th><th>member_id    </th><th>loan_amnt    </th><th>funded_amnt  </th><th>term(years)   </th><th>int_rate     </th><th>grade  </th><th>sub_grade  </th><th>emp_length  </th><th>home_ownership  </th><th>annual_inc   </th><th>verification_status  </th><th>issue_d            </th><th>purpose           </th><th>addr_state  </th><th>dti          </th><th>delinq_2yrs   </th><th>earliest_cr_line   </th><th>mths_since_last_delinq  </th><th>open_acc     </th><th>pub_rec       </th><th>revol_bal    </th><th>total_pymnt  </th><th>total_rec_int  </th><th>total_rec_late_fee  </th><th>recoveries   </th><th>application_type  </th><th>annual_inc_joint  </th><th>dti_joint        </th><th>tot_cur_bal  </th><th>loan_status  </th><th>sum_loan_amnt  </th><th>sum_recoveries  </th><th>std_loan_amnt  </th><th>std_funded_amnt  </th><th>std_term      </th><th>std_int_rate  </th><th>std_annual_inc  </th><th>std_dti       </th><th>std_delinq_2yrs  </th><th>std_mths_since_last_delinq  </th><th>std_open_cc  </th><th>std_pub_rec    </th><th>std_total_paymnt  </th><th>std_total_rec_int  </th><th>std_rec_late_fee  </th><th>std_recoveries  </th><th>std_annual_inc_joint  </th><th>std_dti_joint   </th><th>max_loan_amnt  </th><th>max_term  </th><th>max_int_rate  </th><th>max_recoveries  </th><th>max_dti_joint  </th><th>min_loan_amt  </th><th>min_int_rate  </th><th>mean_loan_amt  </th><th>mean_funded_amnt  </th><th>mean_term     </th><th>mean_int_rate  </th><th>mean_annual_inc  </th><th>mean_dti     </th><th>mean_delinq_2yrs  </th><th>mean_mths_since_last_delinq  </th><th>mean_open_cc  </th><th>mean_pub_rec   </th><th>mean_revol_bal  </th><th>mean_total_paymnt  </th><th>mean_rec_int  </th><th>mean_total_rec_late_fee  </th><th>mean_recoveries  </th><th>mean_annual_inc_joint  </th><th>mean_dti_joint   </th><th>mean_total_cur_bal  </th><th>loan_count   </th><th>mode_loan_subgrade  </th><th>mode_home_ownership  </th><th>mode_loan_purpose  </th><th>mode_addr_state  </th><th>mode_loan_status  </th></tr>\n",
       "</thead>\n",
       "<tbody>\n",
       "<tr><td>type   </td><td>int          </td><td>int          </td><td>int          </td><td>int           </td><td>real         </td><td>enum   </td><td>enum       </td><td>enum        </td><td>enum            </td><td>real         </td><td>enum                 </td><td>time               </td><td>enum              </td><td>enum        </td><td>real         </td><td>int           </td><td>time               </td><td>int                     </td><td>int          </td><td>int           </td><td>int          </td><td>real         </td><td>real           </td><td>real                </td><td>real         </td><td>enum              </td><td>int               </td><td>real             </td><td>int          </td><td>enum         </td><td>int            </td><td>real            </td><td>real           </td><td>real             </td><td>real          </td><td>real          </td><td>real            </td><td>real          </td><td>real             </td><td>real                        </td><td>real         </td><td>real           </td><td>real              </td><td>real               </td><td>real              </td><td>real            </td><td>real                  </td><td>real            </td><td>int            </td><td>int       </td><td>real          </td><td>real            </td><td>real           </td><td>int           </td><td>real          </td><td>real           </td><td>real              </td><td>real          </td><td>real           </td><td>real             </td><td>real         </td><td>real              </td><td>real                         </td><td>real          </td><td>real           </td><td>real            </td><td>real               </td><td>real          </td><td>real                     </td><td>real             </td><td>real                   </td><td>real             </td><td>real                </td><td>int          </td><td>enum                </td><td>enum                 </td><td>enum               </td><td>enum             </td><td>enum              </td></tr>\n",
       "<tr><td>mins   </td><td>70699.0      </td><td>500.0        </td><td>500.0        </td><td>3.0           </td><td>5.32         </td><td>       </td><td>           </td><td>            </td><td>                </td><td>3000.0       </td><td>                     </td><td>1.180656e+12       </td><td>                  </td><td>            </td><td>0.0          </td><td>0.0           </td><td>-31536000000.0     </td><td>0.0                     </td><td>0.0          </td><td>0.0           </td><td>0.0          </td><td>0.0          </td><td>0.0            </td><td>0.0                 </td><td>0.0          </td><td>                  </td><td>0.0               </td><td>0.0              </td><td>0.0          </td><td>             </td><td>41809325.0     </td><td>1283533.58      </td><td>7079.65879917  </td><td>7051.6188694     </td><td>0.2819618778  </td><td>0.99570513842 </td><td>44889.6267414   </td><td>7.32817327776 </td><td>0.452228855362   </td><td>21.2952757376               </td><td>4.67537098464</td><td>0.24957307813  </td><td>7762.68679125     </td><td>776.411161588      </td><td>3.14113796162     </td><td>317.00982632    </td><td>0.0                   </td><td>0.0             </td><td>35000.0        </td><td>5.0       </td><td>9.63          </td><td>14000.16        </td><td>0.0            </td><td>500.0         </td><td>5.32          </td><td>12238.2530761  </td><td>12184.3657747     </td><td>3.04057341237 </td><td>7.50919963158  </td><td>69293.4456282    </td><td>14.1369905297</td><td>0.108731077156    </td><td>31.7510204082                </td><td>10.7708718514 </td><td>0.0472805422384</td><td>14914.641489    </td><td>12701.648058       </td><td>982.761097938 </td><td>0.317072502208           </td><td>32.7353667733    </td><td>0.0                    </td><td>0.0              </td><td>96792.4785389       </td><td>1960.0       </td><td>                    </td><td>                     </td><td>                   </td><td>                 </td><td>                  </td></tr>\n",
       "<tr><td>mean   </td><td>13661685.1882</td><td>13570.5908966</td><td>13530.2103741</td><td>3.4470435501  </td><td>13.7760137692</td><td>       </td><td>           </td><td>            </td><td>                </td><td>72510.5125319</td><td>                     </td><td>1.36778803941e+12  </td><td>                  </td><td>            </td><td>16.5605339313</td><td>0.250533065817</td><td>8.93175726302e+11  </td><td>35.1988237145           </td><td>10.9442267595</td><td>0.143794012353</td><td>15170.2673866</td><td>13572.8616932</td><td>1948.61422062  </td><td>0.720296343574      </td><td>158.570957573</td><td>                  </td><td>0.1416263425      </td><td>6.92395452221e-05</td><td>103523.322467</td><td>             </td><td>719710111.703  </td><td>6871248.034     </td><td>7873.92914904  </td><td>7853.46102152    </td><td>0.691436711846</td><td>1.31053997605 </td><td>58117.6966168   </td><td>7.68184156064 </td><td>0.725395555999   </td><td>21.7126686113               </td><td>4.88188033455</td><td>0.425795365252 </td><td>9281.55990393     </td><td>1733.96554443      </td><td>5.2028390101      </td><td>671.746368446   </td><td>19.7196564623         </td><td>0.00964072093713</td><td>35000.0        </td><td>5.0       </td><td>16.354808411  </td><td>25638.3827418   </td><td>1.34234706322  </td><td>637.503442307 </td><td>5.97416562414 </td><td>13570.5908966  </td><td>13530.2103741     </td><td>3.4470435501  </td><td>13.7760137692  </td><td>72510.5125319    </td><td>16.5605339313</td><td>0.250533065817    </td><td>35.1988237145                </td><td>10.9442267595 </td><td>0.143794012353 </td><td>15170.2673866   </td><td>13572.8616932      </td><td>1948.61422062 </td><td>0.720296343574           </td><td>158.570957573    </td><td>0.1416263425           </td><td>6.92395452221e-05</td><td>103523.322467       </td><td>55189.172792 </td><td>                    </td><td>                     </td><td>                   </td><td>                 </td><td>                  </td></tr>\n",
       "<tr><td>maxs   </td><td>73507418.0   </td><td>35000.0      </td><td>35000.0      </td><td>5.0           </td><td>28.99        </td><td>       </td><td>           </td><td>            </td><td>                </td><td>8706582.0    </td><td>                     </td><td>1.448928e+12       </td><td>                  </td><td>            </td><td>57.14        </td><td>29.0          </td><td>3.1215456e+12      </td><td>156.0                   </td><td>76.0         </td><td>15.0          </td><td>1746716.0    </td><td>57777.57987  </td><td>22777.58       </td><td>358.68              </td><td>33520.27     </td><td>                  </td><td>36000.0           </td><td>17.6             </td><td>8000078.0    </td><td>             </td><td>945894400.0    </td><td>9743728.55452   </td><td>9507.53830676  </td><td>9470.06810293    </td><td>0.966401462835</td><td>1.76298089688 </td><td>65514.4467249   </td><td>8.16759550332 </td><td>1.00937413326    </td><td>21.8106068891               </td><td>6.33295064472</td><td>0.525272332137 </td><td>13160.9755675     </td><td>4246.11858326      </td><td>13.322415315      </td><td>1600.41933962   </td><td>258.551579726         </td><td>0.126402994533  </td><td>35000.0        </td><td>5.0       </td><td>28.99         </td><td>33520.27        </td><td>17.6           </td><td>1000.0        </td><td>17.34         </td><td>21331.2882653  </td><td>21262.9464286     </td><td>4.8112244898  </td><td>25.0489693878  </td><td>86453.1592602    </td><td>18.2766214474</td><td>0.421428571429    </td><td>36.4817325178                </td><td>12.3647959184 </td><td>0.184183673469 </td><td>18624.5056122   </td><td>19021.227683       </td><td>4828.5039949  </td><td>2.36026682551            </td><td>654.864071429    </td><td>1.85691442719          </td><td>0.000907824831072</td><td>113448.94949        </td><td>76263.0      </td><td>                    </td><td>                     </td><td>                   </td><td>                 </td><td>                  </td></tr>\n",
       "<tr><td>sigma  </td><td>15764939.4921</td><td>8133.3868686 </td><td>8111.02086978</td><td>0.833211795228</td><td>4.40408785717</td><td>       </td><td>           </td><td>            </td><td>                </td><td>58785.4458265</td><td>                     </td><td>44363379682.2      </td><td>                  </td><td>            </td><td>7.79439010039</td><td>0.742389568342</td><td>2.36269047145e+11  </td><td>21.7291763793           </td><td>4.89324173251</td><td>0.436923318823</td><td>18746.7430399</td><td>9483.56236093</td><td>2067.22178229  </td><td>5.44348831468       </td><td>746.379765702</td><td>                  </td><td>71.404119839      </td><td>0.0349086808102  </td><td>144818.500266</td><td>             </td><td>235824529.513  </td><td>2974715.04363   </td><td>817.766491838  </td><td>815.839184513    </td><td>0.234407674584</td><td>0.189066048531</td><td>7939.24552407   </td><td>0.268267232401</td><td>0.13904977072    </td><td>0.0513730147005             </td><td>0.25041027323</td><td>0.0858945683071</td><td>1488.66128048     </td><td>800.837422354      </td><td>1.56404193151     </td><td>298.189423901   </td><td>68.6272686858         </td><td>0.0335511091353 </td><td>0.0            </td><td>0.0       </td><td>4.43213947467 </td><td>3574.24173081   </td><td>4.67156275026  </td><td>223.259312459 </td><td>1.03340902373 </td><td>1867.12854933  </td><td>1856.85102636     </td><td>0.401526855926</td><td>4.20033115601  </td><td>3886.64850178    </td><td>1.29279163584</td><td>0.0749956248087   </td><td>0.851791177848               </td><td>0.221394028548</td><td>0.0471957399941</td><td>590.317579394   </td><td>1255.92560615      </td><td>790.968528846 </td><td>0.342482002998           </td><td>130.200599863    </td><td>0.492880242528         </td><td>0.000240963674125</td><td>5076.70628255       </td><td>20260.6709897</td><td>                    </td><td>                     </td><td>                   </td><td>                 </td><td>                  </td></tr>\n",
       "<tr><td>zeros  </td><td>0            </td><td>0            </td><td>0            </td><td>0             </td><td>0            </td><td>       </td><td>           </td><td>            </td><td>                </td><td>0            </td><td>                     </td><td>0                  </td><td>                  </td><td>            </td><td>290          </td><td>213210        </td><td>20                 </td><td>816                     </td><td>5            </td><td>223046        </td><td>1773         </td><td>212          </td><td>558            </td><td>247568              </td><td>230003       </td><td>                  </td><td>254189            </td><td>254189           </td><td>63776        </td><td>             </td><td>0              </td><td>0               </td><td>0              </td><td>0                </td><td>0             </td><td>0             </td><td>0               </td><td>0             </td><td>0                </td><td>0                           </td><td>0            </td><td>0              </td><td>0                 </td><td>0                  </td><td>0                 </td><td>0               </td><td>234803                </td><td>234803          </td><td>0              </td><td>0         </td><td>0             </td><td>0               </td><td>234803         </td><td>0             </td><td>0             </td><td>0              </td><td>0                 </td><td>0             </td><td>0              </td><td>0                </td><td>0            </td><td>0                 </td><td>0                            </td><td>0             </td><td>0              </td><td>0               </td><td>0                  </td><td>0             </td><td>0                        </td><td>0                </td><td>234803                 </td><td>234803           </td><td>0                   </td><td>0            </td><td>                    </td><td>                     </td><td>                   </td><td>                 </td><td>                  </td></tr>\n",
       "<tr><td>missing</td><td>0            </td><td>0            </td><td>0            </td><td>0             </td><td>0            </td><td>0      </td><td>0          </td><td>9968        </td><td>0               </td><td>0            </td><td>0                    </td><td>0                  </td><td>0                 </td><td>0           </td><td>0            </td><td>0             </td><td>0                  </td><td>0                       </td><td>0            </td><td>0             </td><td>0            </td><td>0            </td><td>0              </td><td>0                   </td><td>0            </td><td>0                 </td><td>0                 </td><td>0                </td><td>0            </td><td>0            </td><td>0              </td><td>0               </td><td>0              </td><td>0                </td><td>0             </td><td>0             </td><td>0               </td><td>0             </td><td>0                </td><td>0                           </td><td>0            </td><td>0              </td><td>0                 </td><td>0                  </td><td>0                 </td><td>0               </td><td>0                     </td><td>0               </td><td>0              </td><td>0         </td><td>0             </td><td>0               </td><td>0              </td><td>0             </td><td>0             </td><td>0              </td><td>0                 </td><td>0             </td><td>0              </td><td>0                </td><td>0            </td><td>0                 </td><td>0                            </td><td>0             </td><td>0              </td><td>0               </td><td>0                  </td><td>0             </td><td>0                        </td><td>0                </td><td>0                      </td><td>0                </td><td>0                   </td><td>0            </td><td>0                   </td><td>0                    </td><td>0                  </td><td>0                </td><td>0                 </td></tr>\n",
       "<tr><td>0      </td><td>80364.0      </td><td>25000.0      </td><td>25000.0      </td><td>3.0           </td><td>11.89        </td><td>B      </td><td>B4         </td><td>6 months    </td><td>RENT            </td><td>85000.0      </td><td>Verified             </td><td>2009-08-01 00:00:00</td><td>debt_consolidation</td><td>CA          </td><td>19.48        </td><td>0.0           </td><td>1994-02-01 00:00:00</td><td>22.0                    </td><td>10.0         </td><td>0.0           </td><td>28854.0      </td><td>29324.32     </td><td>4324.32        </td><td>0.0                 </td><td>0.0          </td><td>INDIVIDUAL        </td><td>0.0               </td><td>0.0              </td><td>0.0          </td><td>Fully Paid   </td><td>945894400.0    </td><td>6211479.56158   </td><td>7079.65879917  </td><td>7051.6188694     </td><td>0.571100150551</td><td>1.32966781774 </td><td>58247.0067232   </td><td>7.49057366778 </td><td>0.687316531594   </td><td>21.7218925782               </td><td>4.67537098464</td><td>0.411662835078 </td><td>8086.75419931     </td><td>1250.25293949      </td><td>4.29051205659     </td><td>508.464313148   </td><td>0.0                   </td><td>0.0             </td><td>35000.0        </td><td>5.0       </td><td>14.09         </td><td>29623.35        </td><td>0.0            </td><td>500.0         </td><td>6.0           </td><td>12403.0578393  </td><td>12365.1741342     </td><td>3.179117003   </td><td>11.5494585841  </td><td>71218.2601855    </td><td>16.1275251433</td><td>0.225718893828    </td><td>35.7187889278                </td><td>10.7708718514 </td><td>0.135255628549 </td><td>14972.7955627   </td><td>12894.6397974      </td><td>1543.23995594 </td><td>0.511859126053           </td><td>81.4481407968    </td><td>0.0                    </td><td>0.0              </td><td>101440.446389       </td><td>76263.0      </td><td>B3                  </td><td>MORTGAGE             </td><td>debt_consolidation </td><td>CA               </td><td>Fully Paid        </td></tr>\n",
       "<tr><td>1      </td><td>114426.0     </td><td>7000.0       </td><td>7000.0       </td><td>3.0           </td><td>10.71        </td><td>B      </td><td>B5         </td><td>6 months    </td><td>RENT            </td><td>65000.0      </td><td>Not Verified         </td><td>2008-05-01 00:00:00</td><td>credit_card       </td><td>NY          </td><td>14.29        </td><td>0.0           </td><td>2000-10-01 00:00:00</td><td>19.0                    </td><td>7.0          </td><td>0.0           </td><td>33623.0      </td><td>8215.45      </td><td>1215.45        </td><td>0.0                 </td><td>0.0          </td><td>INDIVIDUAL        </td><td>0.0               </td><td>0.0              </td><td>0.0          </td><td>Fully Paid   </td><td>945894400.0    </td><td>6211479.56158   </td><td>7079.65879917  </td><td>7051.6188694     </td><td>0.571100150551</td><td>1.32966781774 </td><td>58247.0067232   </td><td>7.49057366778 </td><td>0.687316531594   </td><td>21.7218925782               </td><td>4.67537098464</td><td>0.411662835078 </td><td>8086.75419931     </td><td>1250.25293949      </td><td>4.29051205659     </td><td>508.464313148   </td><td>0.0                   </td><td>0.0             </td><td>35000.0        </td><td>5.0       </td><td>14.09         </td><td>29623.35        </td><td>0.0            </td><td>500.0         </td><td>6.0           </td><td>12403.0578393  </td><td>12365.1741342     </td><td>3.179117003   </td><td>11.5494585841  </td><td>71218.2601855    </td><td>16.1275251433</td><td>0.225718893828    </td><td>35.7187889278                </td><td>10.7708718514 </td><td>0.135255628549 </td><td>14972.7955627   </td><td>12894.6397974      </td><td>1543.23995594 </td><td>0.511859126053           </td><td>81.4481407968    </td><td>0.0                    </td><td>0.0              </td><td>101440.446389       </td><td>76263.0      </td><td>B3                  </td><td>MORTGAGE             </td><td>debt_consolidation </td><td>CA               </td><td>Fully Paid        </td></tr>\n",
       "<tr><td>2      </td><td>137225.0     </td><td>25000.0      </td><td>25000.0      </td><td>3.0           </td><td>16.99        </td><td>D      </td><td>D3         </td><td>1 year      </td><td>RENT            </td><td>70000.0      </td><td>Verified             </td><td>2014-08-01 00:00:00</td><td>debt_consolidation</td><td>NY          </td><td>10.5         </td><td>0.0           </td><td>2000-06-01 00:00:00</td><td>41.0                    </td><td>10.0         </td><td>0.0           </td><td>19878.0      </td><td>6073.1       </td><td>1038.95        </td><td>44.56               </td><td>3354.94      </td><td>INDIVIDUAL        </td><td>0.0               </td><td>0.0              </td><td>34561.0      </td><td>Charged Off  </td><td>580511400.0    </td><td>9492090.46201   </td><td>8678.51963605  </td><td>8663.49271602    </td><td>0.942142789399</td><td>1.4024204232  </td><td>44889.6267414   </td><td>8.01564730457 </td><td>0.847737379527   </td><td>21.6880842801               </td><td>5.02294055803</td><td>0.493871058269 </td><td>10398.5270337     </td><td>2252.92092017      </td><td>6.44828885503     </td><td>857.071338552   </td><td>0.0                   </td><td>0.0             </td><td>35000.0        </td><td>5.0       </td><td>20.31         </td><td>25000.29        </td><td>0.0            </td><td>1000.0        </td><td>6.0           </td><td>14221.9462002  </td><td>14196.9902984     </td><td>3.66475574501 </td><td>17.5769559998  </td><td>69293.4456282    </td><td>17.7321130384</td><td>0.318339948062    </td><td>34.5241315106                </td><td>10.9646969474 </td><td>0.179651134303 </td><td>14919.9853986   </td><td>13778.6945382      </td><td>2422.73400436 </td><td>0.998920010283           </td><td>232.546681905    </td><td>0.0                    </td><td>0.0              </td><td>96792.4785389       </td><td>40818.0      </td><td>D1                  </td><td>RENT                 </td><td>debt_consolidation </td><td>CA               </td><td>Fully Paid        </td></tr>\n",
       "<tr><td>3      </td><td>138150.0     </td><td>1200.0       </td><td>1200.0       </td><td>3.0           </td><td>13.11        </td><td>C      </td><td>C2         </td><td>11 years    </td><td>OWN             </td><td>54000.0      </td><td>Not Verified         </td><td>2010-03-01 00:00:00</td><td>debt_consolidation</td><td>TX          </td><td>5.47         </td><td>0.0           </td><td>1985-01-01 00:00:00</td><td>64.0                    </td><td>5.0          </td><td>0.0           </td><td>2584.0       </td><td>1457.31      </td><td>257.31         </td><td>0.0                 </td><td>0.0          </td><td>INDIVIDUAL        </td><td>0.0               </td><td>0.0              </td><td>0.0          </td><td>Fully Paid   </td><td>872511800.0    </td><td>9743728.55452   </td><td>8113.62098387  </td><td>8096.01771013    </td><td>0.847988871124</td><td>1.26280375541 </td><td>65514.4467249   </td><td>7.73651168178 </td><td>0.812550082492   </td><td>21.6915361048               </td><td>4.87721022925</td><td>0.484080536948 </td><td>9533.84786718     </td><td>1803.31772633      </td><td>5.54064465826     </td><td>679.752953347   </td><td>0.0                   </td><td>0.0             </td><td>35000.0        </td><td>5.0       </td><td>17.27         </td><td>24862.1         </td><td>0.0            </td><td>500.0         </td><td>6.0           </td><td>13284.2844093  </td><td>13257.9826431     </td><td>3.46997563946 </td><td>14.6271432704  </td><td>69774.2789304    </td><td>17.1497891291</td><td>0.289936053593    </td><td>34.7900883069                </td><td>10.9525578563 </td><td>0.179582825822 </td><td>14914.641489    </td><td>13340.8972417      </td><td>1961.55864464 </td><td>0.743526506596           </td><td>148.351530976    </td><td>0.0                    </td><td>0.0              </td><td>102643.852299       </td><td>65680.0      </td><td>C1                  </td><td>MORTGAGE             </td><td>debt_consolidation </td><td>CA               </td><td>Fully Paid        </td></tr>\n",
       "<tr><td>4      </td><td>139635.0     </td><td>10800.0      </td><td>10800.0      </td><td>3.0           </td><td>13.57        </td><td>C      </td><td>C3         </td><td>6 years     </td><td>RENT            </td><td>32000.0      </td><td>Not Verified         </td><td>2009-11-01 00:00:00</td><td>debt_consolidation</td><td>CT          </td><td>11.63        </td><td>0.0           </td><td>1996-12-01 00:00:00</td><td>58.0                    </td><td>14.0         </td><td>0.0           </td><td>3511.0       </td><td>13195.27     </td><td>2395.26        </td><td>0.0                 </td><td>0.0          </td><td>INDIVIDUAL        </td><td>0.0               </td><td>0.0              </td><td>0.0          </td><td>Fully Paid   </td><td>872511800.0    </td><td>9743728.55452   </td><td>8113.62098387  </td><td>8096.01771013    </td><td>0.847988871124</td><td>1.26280375541 </td><td>65514.4467249   </td><td>7.73651168178 </td><td>0.812550082492   </td><td>21.6915361048               </td><td>4.87721022925</td><td>0.484080536948 </td><td>9533.84786718     </td><td>1803.31772633      </td><td>5.54064465826     </td><td>679.752953347   </td><td>0.0                   </td><td>0.0             </td><td>35000.0        </td><td>5.0       </td><td>17.27         </td><td>24862.1         </td><td>0.0            </td><td>500.0         </td><td>6.0           </td><td>13284.2844093  </td><td>13257.9826431     </td><td>3.46997563946 </td><td>14.6271432704  </td><td>69774.2789304    </td><td>17.1497891291</td><td>0.289936053593    </td><td>34.7900883069                </td><td>10.9525578563 </td><td>0.179582825822 </td><td>14914.641489    </td><td>13340.8972417      </td><td>1961.55864464 </td><td>0.743526506596           </td><td>148.351530976    </td><td>0.0                    </td><td>0.0              </td><td>102643.852299       </td><td>65680.0      </td><td>C1                  </td><td>MORTGAGE             </td><td>debt_consolidation </td><td>CA               </td><td>Fully Paid        </td></tr>\n",
       "<tr><td>5      </td><td>149512.0     </td><td>7200.0       </td><td>7200.0       </td><td>3.0           </td><td>19.05        </td><td>D      </td><td>D4         </td><td>9 years     </td><td>RENT            </td><td>58000.0      </td><td>Source Verified      </td><td>2012-08-01 00:00:00</td><td>debt_consolidation</td><td>RI          </td><td>2.05         </td><td>0.0           </td><td>1994-04-01 00:00:00</td><td>26.0                    </td><td>6.0          </td><td>0.0           </td><td>3874.0       </td><td>9100.804663  </td><td>1900.8         </td><td>0.0                 </td><td>0.0          </td><td>INDIVIDUAL        </td><td>0.0               </td><td>0.0              </td><td>154930.0     </td><td>Fully Paid   </td><td>580511400.0    </td><td>9492090.46201   </td><td>8678.51963605  </td><td>8663.49271602    </td><td>0.942142789399</td><td>1.4024204232  </td><td>44889.6267414   </td><td>8.01564730457 </td><td>0.847737379527   </td><td>21.6880842801               </td><td>5.02294055803</td><td>0.493871058269 </td><td>10398.5270337     </td><td>2252.92092017      </td><td>6.44828885503     </td><td>857.071338552   </td><td>0.0                   </td><td>0.0             </td><td>35000.0        </td><td>5.0       </td><td>20.31         </td><td>25000.29        </td><td>0.0            </td><td>1000.0        </td><td>6.0           </td><td>14221.9462002  </td><td>14196.9902984     </td><td>3.66475574501 </td><td>17.5769559998  </td><td>69293.4456282    </td><td>17.7321130384</td><td>0.318339948062    </td><td>34.5241315106                </td><td>10.9646969474 </td><td>0.179651134303 </td><td>14919.9853986   </td><td>13778.6945382      </td><td>2422.73400436 </td><td>0.998920010283           </td><td>232.546681905    </td><td>0.0                    </td><td>0.0              </td><td>96792.4785389       </td><td>40818.0      </td><td>D1                  </td><td>RENT                 </td><td>debt_consolidation </td><td>CA               </td><td>Fully Paid        </td></tr>\n",
       "<tr><td>6      </td><td>153417.0     </td><td>7500.0       </td><td>5025.0       </td><td>3.0           </td><td>10.08        </td><td>B      </td><td>B3         </td><td>3 years     </td><td>RENT            </td><td>85000.0      </td><td>Not Verified         </td><td>2008-04-01 00:00:00</td><td>debt_consolidation</td><td>CA          </td><td>8.1          </td><td>0.0           </td><td>2000-11-01 00:00:00</td><td>31.0                    </td><td>3.0          </td><td>0.0           </td><td>33667.0      </td><td>5843.8       </td><td>818.81         </td><td>0.0                 </td><td>0.0          </td><td>INDIVIDUAL        </td><td>0.0               </td><td>0.0              </td><td>0.0          </td><td>Fully Paid   </td><td>945894400.0    </td><td>6211479.56158   </td><td>7079.65879917  </td><td>7051.6188694     </td><td>0.571100150551</td><td>1.32966781774 </td><td>58247.0067232   </td><td>7.49057366778 </td><td>0.687316531594   </td><td>21.7218925782               </td><td>4.67537098464</td><td>0.411662835078 </td><td>8086.75419931     </td><td>1250.25293949      </td><td>4.29051205659     </td><td>508.464313148   </td><td>0.0                   </td><td>0.0             </td><td>35000.0        </td><td>5.0       </td><td>14.09         </td><td>29623.35        </td><td>0.0            </td><td>500.0         </td><td>6.0           </td><td>12403.0578393  </td><td>12365.1741342     </td><td>3.179117003   </td><td>11.5494585841  </td><td>71218.2601855    </td><td>16.1275251433</td><td>0.225718893828    </td><td>35.7187889278                </td><td>10.7708718514 </td><td>0.135255628549 </td><td>14972.7955627   </td><td>12894.6397974      </td><td>1543.23995594 </td><td>0.511859126053           </td><td>81.4481407968    </td><td>0.0                    </td><td>0.0              </td><td>101440.446389       </td><td>76263.0      </td><td>B3                  </td><td>MORTGAGE             </td><td>debt_consolidation </td><td>CA               </td><td>Fully Paid        </td></tr>\n",
       "<tr><td>7      </td><td>154254.0     </td><td>3000.0       </td><td>3000.0       </td><td>3.0           </td><td>14.26        </td><td>C      </td><td>C5         </td><td>3 years     </td><td>MORTGAGE        </td><td>80800.0      </td><td>Not Verified         </td><td>2009-09-01 00:00:00</td><td>credit_card       </td><td>TX          </td><td>14.97        </td><td>1.0           </td><td>1998-07-01 00:00:00</td><td>13.0                    </td><td>13.0         </td><td>0.0           </td><td>4740.0       </td><td>3703.38      </td><td>703.38         </td><td>0.0                 </td><td>0.0          </td><td>INDIVIDUAL        </td><td>0.0               </td><td>0.0              </td><td>0.0          </td><td>Fully Paid   </td><td>872511800.0    </td><td>9743728.55452   </td><td>8113.62098387  </td><td>8096.01771013    </td><td>0.847988871124</td><td>1.26280375541 </td><td>65514.4467249   </td><td>7.73651168178 </td><td>0.812550082492   </td><td>21.6915361048               </td><td>4.87721022925</td><td>0.484080536948 </td><td>9533.84786718     </td><td>1803.31772633      </td><td>5.54064465826     </td><td>679.752953347   </td><td>0.0                   </td><td>0.0             </td><td>35000.0        </td><td>5.0       </td><td>17.27         </td><td>24862.1         </td><td>0.0            </td><td>500.0         </td><td>6.0           </td><td>13284.2844093  </td><td>13257.9826431     </td><td>3.46997563946 </td><td>14.6271432704  </td><td>69774.2789304    </td><td>17.1497891291</td><td>0.289936053593    </td><td>34.7900883069                </td><td>10.9525578563 </td><td>0.179582825822 </td><td>14914.641489    </td><td>13340.8972417      </td><td>1961.55864464 </td><td>0.743526506596           </td><td>148.351530976    </td><td>0.0                    </td><td>0.0              </td><td>102643.852299       </td><td>65680.0      </td><td>C1                  </td><td>MORTGAGE             </td><td>debt_consolidation </td><td>CA               </td><td>Fully Paid        </td></tr>\n",
       "<tr><td>8      </td><td>182594.0     </td><td>4000.0       </td><td>4000.0       </td><td>3.0           </td><td>7.88         </td><td>A      </td><td>A5         </td><td>6 months    </td><td>MORTGAGE        </td><td>148000.0     </td><td>Not Verified         </td><td>2010-02-01 00:00:00</td><td>credit_card       </td><td>TX          </td><td>16.98        </td><td>0.0           </td><td>1993-05-01 00:00:00</td><td>67.0                    </td><td>11.0         </td><td>0.0           </td><td>50807.0      </td><td>4451.17      </td><td>451.17         </td><td>0.0                 </td><td>0.0          </td><td>INDIVIDUAL        </td><td>0.0               </td><td>0.0              </td><td>0.0          </td><td>Fully Paid   </td><td>518204350.0    </td><td>1386113.63528   </td><td>7122.36776218  </td><td>7115.70687708    </td><td>0.2819618778  </td><td>0.99570513842 </td><td>65501.535235    </td><td>7.32817327776 </td><td>0.452228855362   </td><td>21.7414033977               </td><td>4.73801295497</td><td>0.24957307813  </td><td>7762.68679125     </td><td>776.411161588      </td><td>3.14113796162     </td><td>317.00982632    </td><td>0.0                   </td><td>0.0             </td><td>35000.0        </td><td>5.0       </td><td>9.63          </td><td>20502.14        </td><td>0.0            </td><td>500.0         </td><td>5.32          </td><td>12238.2530761  </td><td>12184.3657747     </td><td>3.04057341237 </td><td>7.50919963158  </td><td>79659.6674782    </td><td>14.1369905297</td><td>0.108731077156    </td><td>36.4817325178                </td><td>10.8598823891 </td><td>0.0472805422384</td><td>15090.8823418   </td><td>12701.648058       </td><td>982.761097938 </td><td>0.317072502208           </td><td>32.7353667733    </td><td>0.0                    </td><td>0.0              </td><td>113219.655575       </td><td>42343.0      </td><td>A5                  </td><td>MORTGAGE             </td><td>debt_consolidation </td><td>CA               </td><td>Fully Paid        </td></tr>\n",
       "<tr><td>9      </td><td>182917.0     </td><td>5600.0       </td><td>5600.0       </td><td>3.0           </td><td>14.96        </td><td>D      </td><td>D2         </td><td>1 year      </td><td>RENT            </td><td>45000.0      </td><td>Not Verified         </td><td>2010-02-01 00:00:00</td><td>debt_consolidation</td><td>MD          </td><td>4.0          </td><td>0.0           </td><td>2001-06-01 00:00:00</td><td>38.0                    </td><td>5.0          </td><td>1.0           </td><td>3839.0       </td><td>6474.6       </td><td>1211.07        </td><td>0.0                 </td><td>42.84        </td><td>INDIVIDUAL        </td><td>0.0               </td><td>0.0              </td><td>0.0          </td><td>Charged Off  </td><td>580511400.0    </td><td>9492090.46201   </td><td>8678.51963605  </td><td>8663.49271602    </td><td>0.942142789399</td><td>1.4024204232  </td><td>44889.6267414   </td><td>8.01564730457 </td><td>0.847737379527   </td><td>21.6880842801               </td><td>5.02294055803</td><td>0.493871058269 </td><td>10398.5270337     </td><td>2252.92092017      </td><td>6.44828885503     </td><td>857.071338552   </td><td>0.0                   </td><td>0.0             </td><td>35000.0        </td><td>5.0       </td><td>20.31         </td><td>25000.29        </td><td>0.0            </td><td>1000.0        </td><td>6.0           </td><td>14221.9462002  </td><td>14196.9902984     </td><td>3.66475574501 </td><td>17.5769559998  </td><td>69293.4456282    </td><td>17.7321130384</td><td>0.318339948062    </td><td>34.5241315106                </td><td>10.9646969474 </td><td>0.179651134303 </td><td>14919.9853986   </td><td>13778.6945382      </td><td>2422.73400436 </td><td>0.998920010283           </td><td>232.546681905    </td><td>0.0                    </td><td>0.0              </td><td>96792.4785389       </td><td>40818.0      </td><td>D1                  </td><td>RENT                 </td><td>debt_consolidation </td><td>CA               </td><td>Fully Paid        </td></tr>\n",
       "</tbody>\n",
       "</table>"
      ]
     },
     "metadata": {},
     "output_type": "display_data"
    }
   ],
   "source": [
    "df.describe()"
   ]
  },
  {
   "cell_type": "code",
   "execution_count": 5,
   "metadata": {},
   "outputs": [],
   "source": [
    "y = \"int_rate\""
   ]
  },
  {
   "cell_type": "code",
   "execution_count": 6,
   "metadata": {},
   "outputs": [],
   "source": [
    "splits = df.split_frame(ratios = [0.8], seed = 1)\n",
    "train = splits[0]\n",
    "test = splits[1]"
   ]
  },
  {
   "cell_type": "markdown",
   "metadata": {},
   "source": [
    "# Run AutoML"
   ]
  },
  {
   "cell_type": "code",
   "execution_count": 8,
   "metadata": {},
   "outputs": [
    {
     "name": "stdout",
     "output_type": "stream",
     "text": [
      "AutoML progress: |████████████████████████████████████████████████████████| 100%\n"
     ]
    }
   ],
   "source": [
    "aml = H2OAutoML(seed = 1, project_name = \"Interest_Rate_Predict\")\n",
    "aml.train(y = y, training_frame = train, leaderboard_frame = test)"
   ]
  },
  {
   "cell_type": "code",
   "execution_count": 9,
   "metadata": {},
   "outputs": [
    {
     "name": "stdout",
     "output_type": "stream",
     "text": [
      "AutoML progress: |████████████████████████████████████████████████████████| 100%\n"
     ]
    }
   ],
   "source": [
    "aml2 = H2OAutoML(seed = 1, project_name = \"Interest_Rate_Predict_Full_Data\")\n",
    "aml2.train(y = y, training_frame = df)"
   ]
  },
  {
   "cell_type": "markdown",
   "metadata": {},
   "source": [
    "# Leaderboard"
   ]
  },
  {
   "cell_type": "code",
   "execution_count": 10,
   "metadata": {},
   "outputs": [
    {
     "data": {
      "text/html": [
       "<table>\n",
       "<thead>\n",
       "<tr><th>model_id                                           </th><th style=\"text-align: right;\">  mean_residual_deviance</th><th style=\"text-align: right;\">    rmse</th><th style=\"text-align: right;\">      mse</th><th style=\"text-align: right;\">      mae</th><th style=\"text-align: right;\">    rmsle</th></tr>\n",
       "</thead>\n",
       "<tbody>\n",
       "<tr><td>DRF_1_AutoML_20190322_143423                       </td><td style=\"text-align: right;\">               0.0252778</td><td style=\"text-align: right;\">0.15899 </td><td style=\"text-align: right;\">0.0252778</td><td style=\"text-align: right;\">0.0274001</td><td style=\"text-align: right;\">0.0129177</td></tr>\n",
       "<tr><td>StackedEnsemble_BestOfFamily_AutoML_20190322_143423</td><td style=\"text-align: right;\">               0.0265207</td><td style=\"text-align: right;\">0.162852</td><td style=\"text-align: right;\">0.0265207</td><td style=\"text-align: right;\">0.0621245</td><td style=\"text-align: right;\">0.0132196</td></tr>\n",
       "<tr><td>StackedEnsemble_AllModels_AutoML_20190322_143423   </td><td style=\"text-align: right;\">               0.0265207</td><td style=\"text-align: right;\">0.162852</td><td style=\"text-align: right;\">0.0265207</td><td style=\"text-align: right;\">0.0621245</td><td style=\"text-align: right;\">0.0132196</td></tr>\n",
       "<tr><td>XRT_1_AutoML_20190322_143423                       </td><td style=\"text-align: right;\">               0.0271103</td><td style=\"text-align: right;\">0.164652</td><td style=\"text-align: right;\">0.0271103</td><td style=\"text-align: right;\">0.0591983</td><td style=\"text-align: right;\">0.0133308</td></tr>\n",
       "<tr><td>GLM_grid_1_AutoML_20190322_143423_model_1          </td><td style=\"text-align: right;\">               0.487112 </td><td style=\"text-align: right;\">0.697934</td><td style=\"text-align: right;\">0.487112 </td><td style=\"text-align: right;\">0.494526 </td><td style=\"text-align: right;\">0.0503951</td></tr>\n",
       "</tbody>\n",
       "</table>"
      ]
     },
     "metadata": {},
     "output_type": "display_data"
    },
    {
     "data": {
      "text/plain": []
     },
     "execution_count": 10,
     "metadata": {},
     "output_type": "execute_result"
    }
   ],
   "source": [
    "aml.leaderboard.head()"
   ]
  },
  {
   "cell_type": "code",
   "execution_count": 11,
   "metadata": {},
   "outputs": [
    {
     "data": {
      "text/html": [
       "<table>\n",
       "<thead>\n",
       "<tr><th>model_id                                           </th><th style=\"text-align: right;\">  mean_residual_deviance</th><th style=\"text-align: right;\">    rmse</th><th style=\"text-align: right;\">      mse</th><th style=\"text-align: right;\">      mae</th><th style=\"text-align: right;\">    rmsle</th></tr>\n",
       "</thead>\n",
       "<tbody>\n",
       "<tr><td>DRF_1_AutoML_20190322_153940                       </td><td style=\"text-align: right;\">               0.0260258</td><td style=\"text-align: right;\">0.161325</td><td style=\"text-align: right;\">0.0260258</td><td style=\"text-align: right;\">0.028084 </td><td style=\"text-align: right;\">0.0128824</td></tr>\n",
       "<tr><td>StackedEnsemble_BestOfFamily_AutoML_20190322_153940</td><td style=\"text-align: right;\">               0.0290908</td><td style=\"text-align: right;\">0.17056 </td><td style=\"text-align: right;\">0.0290908</td><td style=\"text-align: right;\">0.0699835</td><td style=\"text-align: right;\">0.0134918</td></tr>\n",
       "<tr><td>StackedEnsemble_AllModels_AutoML_20190322_153940   </td><td style=\"text-align: right;\">               0.0290908</td><td style=\"text-align: right;\">0.17056 </td><td style=\"text-align: right;\">0.0290908</td><td style=\"text-align: right;\">0.0699835</td><td style=\"text-align: right;\">0.0134918</td></tr>\n",
       "<tr><td>XRT_1_AutoML_20190322_153940                       </td><td style=\"text-align: right;\">               0.0291186</td><td style=\"text-align: right;\">0.170642</td><td style=\"text-align: right;\">0.0291186</td><td style=\"text-align: right;\">0.0627261</td><td style=\"text-align: right;\">0.0135453</td></tr>\n",
       "<tr><td>GLM_grid_1_AutoML_20190322_153940_model_1          </td><td style=\"text-align: right;\">               0.492152 </td><td style=\"text-align: right;\">0.701535</td><td style=\"text-align: right;\">0.492152 </td><td style=\"text-align: right;\">0.496385 </td><td style=\"text-align: right;\">0.050603 </td></tr>\n",
       "</tbody>\n",
       "</table>"
      ]
     },
     "metadata": {},
     "output_type": "display_data"
    },
    {
     "data": {
      "text/plain": []
     },
     "execution_count": 11,
     "metadata": {},
     "output_type": "execute_result"
    }
   ],
   "source": [
    "aml2.leaderboard.head()"
   ]
  },
  {
   "cell_type": "markdown",
   "metadata": {},
   "source": [
    "# Predict Using Leader Model"
   ]
  },
  {
   "cell_type": "code",
   "execution_count": 68,
   "metadata": {},
   "outputs": [
    {
     "name": "stdout",
     "output_type": "stream",
     "text": [
      "drf prediction progress: |████████████████████████████████████████████████| 100%\n"
     ]
    },
    {
     "data": {
      "text/html": [
       "<table>\n",
       "<thead>\n",
       "<tr><th style=\"text-align: right;\">  predict</th></tr>\n",
       "</thead>\n",
       "<tbody>\n",
       "<tr><td style=\"text-align: right;\">  16.6586</td></tr>\n",
       "<tr><td style=\"text-align: right;\">  14.6594</td></tr>\n",
       "<tr><td style=\"text-align: right;\">  11.07  </td></tr>\n",
       "<tr><td style=\"text-align: right;\">   8.08  </td></tr>\n",
       "<tr><td style=\"text-align: right;\">   7.4508</td></tr>\n",
       "<tr><td style=\"text-align: right;\">  11.235 </td></tr>\n",
       "<tr><td style=\"text-align: right;\">   9.105 </td></tr>\n",
       "<tr><td style=\"text-align: right;\">  11.5624</td></tr>\n",
       "<tr><td style=\"text-align: right;\">  13.9612</td></tr>\n",
       "<tr><td style=\"text-align: right;\">  10.6028</td></tr>\n",
       "</tbody>\n",
       "</table>"
      ]
     },
     "metadata": {},
     "output_type": "display_data"
    },
    {
     "data": {
      "text/plain": []
     },
     "execution_count": 68,
     "metadata": {},
     "output_type": "execute_result"
    }
   ],
   "source": [
    "pred = aml.predict(test)\n",
    "pred.head()"
   ]
  },
  {
   "cell_type": "code",
   "execution_count": 69,
   "metadata": {},
   "outputs": [
    {
     "name": "stdout",
     "output_type": "stream",
     "text": [
      "\n",
      "ModelMetricsRegression: drf\n",
      "** Reported on test data. **\n",
      "\n",
      "MSE: 0.0252778131163\n",
      "RMSE: 0.158989978037\n",
      "MAE: 0.0274001131977\n",
      "RMSLE: 0.012917687578\n",
      "Mean Residual Deviance: 0.0252778131163\n"
     ]
    },
    {
     "data": {
      "text/plain": []
     },
     "execution_count": 69,
     "metadata": {},
     "output_type": "execute_result"
    }
   ],
   "source": [
    "perf = aml.leader.model_performance(test)\n",
    "perf"
   ]
  },
  {
   "cell_type": "markdown",
   "metadata": {},
   "source": [
    "# Calculating MAPE"
   ]
  },
  {
   "cell_type": "code",
   "execution_count": 77,
   "metadata": {},
   "outputs": [
    {
     "data": {
      "text/plain": [
       "0.0021457457356189942"
      ]
     },
     "execution_count": 77,
     "metadata": {},
     "output_type": "execute_result"
    }
   ],
   "source": [
    "def MAPE(actual, predict):\n",
    "    abs_pct_error = abs((actual - predict) / actual)\n",
    "    mape = abs_pct_error.mean()[0]\n",
    "    return mape\n",
    "\n",
    "MAPE(test[y],pred)"
   ]
  },
  {
   "cell_type": "code",
   "execution_count": 78,
   "metadata": {},
   "outputs": [
    {
     "data": {
      "text/plain": [
       "u'/Users/rajsharavan/Desktop/Python/Assignment_3/H2O/DRF_1_AutoML_20190322_143423'"
      ]
     },
     "execution_count": 78,
     "metadata": {},
     "output_type": "execute_result"
    }
   ],
   "source": [
    "h2o.save_model(aml.leader, path = os.getcwd()+ \"/H2O\")"
   ]
  },
  {
   "cell_type": "code",
   "execution_count": 79,
   "metadata": {},
   "outputs": [
    {
     "data": {
      "text/plain": [
       "'/Users/rajsharavan/Desktop/Python/Assignment_3/H2O/DRF_1_AutoML_20190322_143423.zip'"
      ]
     },
     "execution_count": 79,
     "metadata": {},
     "output_type": "execute_result"
    }
   ],
   "source": [
    "aml.leader.download_mojo(path = os.getcwd()+ \"/H2O\")"
   ]
  }
 ],
 "metadata": {
  "kernelspec": {
   "display_name": "Python 3",
   "language": "python",
   "name": "python3"
  },
  "language_info": {
   "codemirror_mode": {
    "name": "ipython",
    "version": 2
   },
   "file_extension": ".py",
   "mimetype": "text/x-python",
   "name": "python",
   "nbconvert_exporter": "python",
   "pygments_lexer": "ipython2",
   "version": "2.7.15"
  }
 },
 "nbformat": 4,
 "nbformat_minor": 2
}
