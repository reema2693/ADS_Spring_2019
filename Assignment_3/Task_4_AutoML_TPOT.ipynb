{
 "cells": [
  {
   "cell_type": "markdown",
   "metadata": {},
   "source": [
    "# Task4: AutoML"
   ]
  },
  {
   "cell_type": "markdown",
   "metadata": {},
   "source": [
    "# TPOT\n",
    "\n",
    "TPOT is a python Automated Machine Learning Tool that optimizes machine learning pipelines using genetic programming(inspired by Darwinian Process of Natural Solutions i.e. finding out the fittest possible solution for optimization). It automates the most tedious part of machine learning i.e data preperation, feature selection , feature engineering,model selection and validation, hyperparameter tuning and outputs the optimal code for you when its done."
   ]
  },
  {
   "cell_type": "code",
   "execution_count": 2,
   "metadata": {},
   "outputs": [
    {
     "name": "stderr",
     "output_type": "stream",
     "text": [
      "/Users/rajsharavan/miniconda3/lib/python2.7/site-packages/deap/tools/_hypervolume/pyhv.py:33: ImportWarning: Falling back to the python version of hypervolume module. Expect this to be very slow.\n",
      "  \"module. Expect this to be very slow.\", ImportWarning)\n"
     ]
    }
   ],
   "source": [
    "import pandas as pd\n",
    "import numpy as np\n",
    "import os\n",
    "from sklearn.model_selection import train_test_split\n",
    "from tpot import TPOTRegressor\n",
    "\n",
    "# ignore warnings from pandas\n",
    "import warnings\n",
    "warnings.filterwarnings('ignore')\n",
    "\n",
    "pd.set_option('display.max_rows', 500)\n",
    "pd.set_option('display.max_columns', 500)\n",
    "pd.set_option('display.width', 1000)\n",
    "\n",
    "#Splitting the dataframe\n",
    "loans = pd.read_csv(os.getcwd()+ \"/Data/cleaned_data.csv\", low_memory=False)\n",
    "\n",
    "#target variable\n",
    "labels = loans['int_rate']\n",
    "\n",
    "#since regressor only uses numerical data eliminating the non-numerical data\n",
    "features = loans.drop(['int_rate','grade','sub_grade','emp_length','home_ownership','verification_status','issue_d',\n",
    "                      'loan_status','purpose','addr_state','application_type','earliest_cr_line'],axis=1)\n",
    "\n",
    "X = np.array(features).astype(np.float64)\n",
    "Y = np.array(labels).astype(np.float64)\n",
    "\n",
    "X_train, X_test, Y_train, Y_test = train_test_split(X,Y, test_size = 0.25,random_state =42) #stratify = 'int_rate'"
   ]
  },
  {
   "cell_type": "markdown",
   "metadata": {},
   "source": [
    "# Optimize pipelines for regression problems"
   ]
  },
  {
   "cell_type": "code",
   "execution_count": null,
   "metadata": {},
   "outputs": [],
   "source": [
    "tpot = TPOTRegressor(generations=5, population_size=20, verbosity=2)\n",
    "tpot.fit(X_train, Y_train)\n",
    "print(\"TPOT Score for Testing set\")\n",
    "print(tpot.score(X_test, Y_test))\n",
    "print(\"TPOT Score for Training set\")\n",
    "print(tpot.score(X_train, X_train))\n",
    "tpot.export('tpot_loan_pipeline.py')"
   ]
  },
  {
   "cell_type": "code",
   "execution_count": 6,
   "metadata": {},
   "outputs": [],
   "source": [
    "#Get the predicted values for this model\n",
    "Y_predicted = tpot.predict((X_test))"
   ]
  },
  {
   "cell_type": "code",
   "execution_count": 7,
   "metadata": {},
   "outputs": [
    {
     "name": "stdout",
     "output_type": "stream",
     "text": [
      "('Mean Absolute Percentage Error:', 15.599448586333253)\n"
     ]
    }
   ],
   "source": [
    "#Calculate the MAPE\n",
    "def mean_absolute_percentage_error(y_true, y_pred):\n",
    "    y_true, y_pred = np.array(y_true), np.array(y_pred)\n",
    "    return np.mean(np.abs((y_true - y_pred) / y_true)) * 100\n",
    "\n",
    "print('Mean Absolute Percentage Error:', mean_absolute_percentage_error(Y_test, Y_predicted))"
   ]
  }
 ],
 "metadata": {
  "kernelspec": {
   "display_name": "Python 3",
   "language": "python",
   "name": "python3"
  },
  "language_info": {
   "codemirror_mode": {
    "name": "ipython",
    "version": 2
   },
   "file_extension": ".py",
   "mimetype": "text/x-python",
   "name": "python",
   "nbconvert_exporter": "python",
   "pygments_lexer": "ipython2",
   "version": "2.7.15"
  }
 },
 "nbformat": 4,
 "nbformat_minor": 2
}
