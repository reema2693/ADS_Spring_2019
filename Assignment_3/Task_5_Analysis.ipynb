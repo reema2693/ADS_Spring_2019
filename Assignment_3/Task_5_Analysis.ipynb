{
 "cells": [
  {
   "cell_type": "markdown",
   "metadata": {},
   "source": [
    "# Task 5: Analysis"
   ]
  },
  {
   "cell_type": "markdown",
   "metadata": {},
   "source": [
    "Plotly is useful plot geographical plots using the choropleth map\n",
    "\n",
    "We ploted geographical plots for the United State and can plot for entire world using unique code dictionary"
   ]
  },
  {
   "cell_type": "code",
   "execution_count": 10,
   "metadata": {},
   "outputs": [
    {
     "data": {
      "text/html": [
       "<script type=\"text/javascript\">window.PlotlyConfig = {MathJaxConfig: 'local'};</script><script type=\"text/javascript\">if (window.MathJax) {MathJax.Hub.Config({SVG: {font: \"STIX-Web\"}});}</script><script>requirejs.config({paths: { 'plotly': ['https://cdn.plot.ly/plotly-latest.min']},});if(!window._Plotly) {require(['plotly'],function(plotly) {window._Plotly=plotly;});}</script>"
      ],
      "text/vnd.plotly.v1+html": [
       "<script type=\"text/javascript\">window.PlotlyConfig = {MathJaxConfig: 'local'};</script><script type=\"text/javascript\">if (window.MathJax) {MathJax.Hub.Config({SVG: {font: \"STIX-Web\"}});}</script><script>requirejs.config({paths: { 'plotly': ['https://cdn.plot.ly/plotly-latest.min']},});if(!window._Plotly) {require(['plotly'],function(plotly) {window._Plotly=plotly;});}</script>"
      ]
     },
     "metadata": {},
     "output_type": "display_data"
    },
    {
     "data": {
      "application/vnd.plotly.v1+json": {
       "config": {
        "linkText": "Export to plot.ly",
        "plotlyServerURL": "https://plot.ly",
        "showLink": false
       },
       "data": [
        {
         "colorbar": {
          "title": {
           "text": "USA States"
          }
         },
         "colorscale": "Portland",
         "locationmode": "USA-states",
         "locations": [
          "AL",
          "AK",
          "AZ",
          "AR",
          "CA",
          "CO",
          "CT",
          "DE",
          "FL",
          "GA",
          "HI",
          "ID",
          "IL",
          "IN",
          "IA",
          "KS",
          "KY",
          "LA",
          "ME",
          "MD",
          "MA",
          "MI",
          "MN",
          "MS",
          "MO",
          "MT",
          "NE",
          "NV",
          "NH",
          "NJ",
          "NM",
          "NY",
          "NC",
          "ND",
          "OH",
          "OK",
          "OR",
          "PA",
          "RI",
          "SC",
          "SD",
          "TN",
          "TX",
          "UT",
          "VT",
          "VA",
          "WA",
          "WV",
          "WI",
          "WY"
         ],
         "text": [
          "Alabama",
          "Alaska",
          "Arizona",
          "Arkansas",
          "California",
          "Colorado",
          "Connecticut",
          "Delaware",
          "Florida",
          "Georgia",
          "Hawaii",
          "Idaho",
          "Illinois",
          "Indiana",
          "Iowa",
          "Kansas",
          "Kentucky",
          "Louisiana",
          "Maine",
          "Maryland",
          "Massachusetts",
          "Michigan",
          "Minnesota",
          "Mississippi",
          "Missouri",
          "Montana",
          "Nebraska",
          "Nevada",
          "New Hampshire",
          "New Jersey",
          "New Mexico",
          "New York",
          "North Carolina",
          "North Dakota",
          "Ohio",
          "Oklahoma",
          "Oregon",
          "Pennsylvania",
          "Rhode Island",
          "South Carolina",
          "South Dakota",
          "Tennessee",
          "Texas",
          "Utah",
          "Vermont",
          "Virginia",
          "Washington",
          "West Virginia",
          "Wisconsin",
          "Wyoming"
         ],
         "type": "choropleth",
         "uid": "6dc52fb7-0133-438c-b793-211668a4c566",
         "z": [
          10935,
          2171,
          20025,
          6498,
          127140,
          18470,
          13204,
          2440,
          59688,
          28462,
          4476,
          9,
          9,
          34812,
          7,
          7783,
          8402,
          10371,
          491,
          20571,
          20148,
          22537,
          15661,
          3729,
          13926,
          2512,
          1133,
          12220,
          4203,
          32576,
          4840,
          72497,
          24209,
          455,
          29094,
          7921,
          10700,
          30766,
          3820,
          10448,
          1786,
          12612,
          69811,
          6157,
          1772,
          25713,
          19082,
          4316,
          11358,
          1999
         ]
        }
       ],
       "layout": {
        "geo": {
         "scope": "usa"
        }
       }
      },
      "text/html": [
       "<div id=\"2178564d-c520-4328-a30b-70b8dcb99073\" style=\"height: 525px; width: 100%;\" class=\"plotly-graph-div\"></div><script type=\"text/javascript\">require([\"plotly\"], function(Plotly) { window.PLOTLYENV=window.PLOTLYENV || {};window.PLOTLYENV.BASE_URL=\"https://plot.ly\";\n",
       "if (document.getElementById(\"2178564d-c520-4328-a30b-70b8dcb99073\")) {\n",
       "    Plotly.newPlot(\"2178564d-c520-4328-a30b-70b8dcb99073\", [{\"colorbar\": {\"title\": {\"text\": \"USA States\"}}, \"colorscale\": \"Portland\", \"locationmode\": \"USA-states\", \"locations\": [\"AL\", \"AK\", \"AZ\", \"AR\", \"CA\", \"CO\", \"CT\", \"DE\", \"FL\", \"GA\", \"HI\", \"ID\", \"IL\", \"IN\", \"IA\", \"KS\", \"KY\", \"LA\", \"ME\", \"MD\", \"MA\", \"MI\", \"MN\", \"MS\", \"MO\", \"MT\", \"NE\", \"NV\", \"NH\", \"NJ\", \"NM\", \"NY\", \"NC\", \"ND\", \"OH\", \"OK\", \"OR\", \"PA\", \"RI\", \"SC\", \"SD\", \"TN\", \"TX\", \"UT\", \"VT\", \"VA\", \"WA\", \"WV\", \"WI\", \"WY\"], \"text\": [\"Alabama\", \"Alaska\", \"Arizona\", \"Arkansas\", \"California\", \"Colorado\", \"Connecticut\", \"Delaware\", \"Florida\", \"Georgia\", \"Hawaii\", \"Idaho\", \"Illinois\", \"Indiana\", \"Iowa\", \"Kansas\", \"Kentucky\", \"Louisiana\", \"Maine\", \"Maryland\", \"Massachusetts\", \"Michigan\", \"Minnesota\", \"Mississippi\", \"Missouri\", \"Montana\", \"Nebraska\", \"Nevada\", \"New Hampshire\", \"New Jersey\", \"New Mexico\", \"New York\", \"North Carolina\", \"North Dakota\", \"Ohio\", \"Oklahoma\", \"Oregon\", \"Pennsylvania\", \"Rhode Island\", \"South Carolina\", \"South Dakota\", \"Tennessee\", \"Texas\", \"Utah\", \"Vermont\", \"Virginia\", \"Washington\", \"West Virginia\", \"Wisconsin\", \"Wyoming\"], \"z\": [10935, 2171, 20025, 6498, 127140, 18470, 13204, 2440, 59688, 28462, 4476, 9, 9, 34812, 7, 7783, 8402, 10371, 491, 20571, 20148, 22537, 15661, 3729, 13926, 2512, 1133, 12220, 4203, 32576, 4840, 72497, 24209, 455, 29094, 7921, 10700, 30766, 3820, 10448, 1786, 12612, 69811, 6157, 1772, 25713, 19082, 4316, 11358, 1999], \"type\": \"choropleth\", \"uid\": \"6dc52fb7-0133-438c-b793-211668a4c566\"}], {\"geo\": {\"scope\": \"usa\"}}, {\"showLink\": false, \"linkText\": \"Export to plot.ly\", \"plotlyServerURL\": \"https://plot.ly\"}); \n",
       "}\n",
       "});</script><script type=\"text/javascript\">window.addEventListener(\"resize\", function(){if (document.getElementById(\"2178564d-c520-4328-a30b-70b8dcb99073\")) {window._Plotly.Plots.resize(document.getElementById(\"2178564d-c520-4328-a30b-70b8dcb99073\"));};})</script>"
      ],
      "text/vnd.plotly.v1+html": [
       "<div id=\"2178564d-c520-4328-a30b-70b8dcb99073\" style=\"height: 525px; width: 100%;\" class=\"plotly-graph-div\"></div><script type=\"text/javascript\">require([\"plotly\"], function(Plotly) { window.PLOTLYENV=window.PLOTLYENV || {};window.PLOTLYENV.BASE_URL=\"https://plot.ly\";\n",
       "if (document.getElementById(\"2178564d-c520-4328-a30b-70b8dcb99073\")) {\n",
       "    Plotly.newPlot(\"2178564d-c520-4328-a30b-70b8dcb99073\", [{\"colorbar\": {\"title\": {\"text\": \"USA States\"}}, \"colorscale\": \"Portland\", \"locationmode\": \"USA-states\", \"locations\": [\"AL\", \"AK\", \"AZ\", \"AR\", \"CA\", \"CO\", \"CT\", \"DE\", \"FL\", \"GA\", \"HI\", \"ID\", \"IL\", \"IN\", \"IA\", \"KS\", \"KY\", \"LA\", \"ME\", \"MD\", \"MA\", \"MI\", \"MN\", \"MS\", \"MO\", \"MT\", \"NE\", \"NV\", \"NH\", \"NJ\", \"NM\", \"NY\", \"NC\", \"ND\", \"OH\", \"OK\", \"OR\", \"PA\", \"RI\", \"SC\", \"SD\", \"TN\", \"TX\", \"UT\", \"VT\", \"VA\", \"WA\", \"WV\", \"WI\", \"WY\"], \"text\": [\"Alabama\", \"Alaska\", \"Arizona\", \"Arkansas\", \"California\", \"Colorado\", \"Connecticut\", \"Delaware\", \"Florida\", \"Georgia\", \"Hawaii\", \"Idaho\", \"Illinois\", \"Indiana\", \"Iowa\", \"Kansas\", \"Kentucky\", \"Louisiana\", \"Maine\", \"Maryland\", \"Massachusetts\", \"Michigan\", \"Minnesota\", \"Mississippi\", \"Missouri\", \"Montana\", \"Nebraska\", \"Nevada\", \"New Hampshire\", \"New Jersey\", \"New Mexico\", \"New York\", \"North Carolina\", \"North Dakota\", \"Ohio\", \"Oklahoma\", \"Oregon\", \"Pennsylvania\", \"Rhode Island\", \"South Carolina\", \"South Dakota\", \"Tennessee\", \"Texas\", \"Utah\", \"Vermont\", \"Virginia\", \"Washington\", \"West Virginia\", \"Wisconsin\", \"Wyoming\"], \"z\": [10935, 2171, 20025, 6498, 127140, 18470, 13204, 2440, 59688, 28462, 4476, 9, 9, 34812, 7, 7783, 8402, 10371, 491, 20571, 20148, 22537, 15661, 3729, 13926, 2512, 1133, 12220, 4203, 32576, 4840, 72497, 24209, 455, 29094, 7921, 10700, 30766, 3820, 10448, 1786, 12612, 69811, 6157, 1772, 25713, 19082, 4316, 11358, 1999], \"type\": \"choropleth\", \"uid\": \"6dc52fb7-0133-438c-b793-211668a4c566\"}], {\"geo\": {\"scope\": \"usa\"}}, {\"showLink\": false, \"linkText\": \"Export to plot.ly\", \"plotlyServerURL\": \"https://plot.ly\"}); \n",
       "}\n",
       "});</script><script type=\"text/javascript\">window.addEventListener(\"resize\", function(){if (document.getElementById(\"2178564d-c520-4328-a30b-70b8dcb99073\")) {window._Plotly.Plots.resize(document.getElementById(\"2178564d-c520-4328-a30b-70b8dcb99073\"));};})</script>"
      ]
     },
     "metadata": {},
     "output_type": "display_data"
    }
   ],
   "source": [
    "import plotly.plotly as py  \n",
    "import plotly.graph_objs as go  \n",
    "import os\n",
    "import pandas as pd\n",
    "from plotly.offline import download_plotlyjs, init_notebook_mode, plot, iplot\n",
    "\n",
    "init_notebook_mode(connected=True)  \n",
    "\n",
    "#using data file which contains state FIPS code of USA states\n",
    "df = pd.read_csv(os.getcwd()+'/Graphs.csv')\n",
    "map_data = dict(type='choropleth',  \n",
    "            locations=df['STUSAB'],\n",
    "            locationmode='USA-states',\n",
    "            colorscale='Portland',\n",
    "            text=df['STATE_NAME'],\n",
    "            z=df['COUNT'],\n",
    "            colorbar=dict(title=\"USA States\")\n",
    "           )\n",
    "\n",
    "map_layout = dict(geo = {'scope':'usa'})  \n",
    "\n",
    "map_actual = go.Figure(data=[map_data], layout=map_layout)  \n",
    "iplot(map_actual)  "
   ]
  },
  {
   "cell_type": "code",
   "execution_count": 18,
   "metadata": {},
   "outputs": [
    {
     "data": {
      "text/plain": [
       "<matplotlib.axes._subplots.AxesSubplot at 0x1e4a455d630>"
      ]
     },
     "execution_count": 18,
     "metadata": {},
     "output_type": "execute_result"
    },
    {
     "data": {
      "image/png": "[encoded data removed]",
      "text/plain": [
       "<Figure size 432x288 with 1 Axes>"
      ]
     },
     "metadata": {
      "needs_background": "light"
     },
     "output_type": "display_data"
    }
   ],
   "source": [
    "import pandas as pd\n",
    "import matplotlib.pyplot as plot\n",
    "\n",
    "%matplotlib inline\n",
    "\n",
    "df = pd.read_csv(os.getcwd()+'/MF_Data.csv') #toy dataset\n",
    "df.head()\n",
    "\n",
    "df['Risk Factor'].value_counts()\n",
    "\n",
    "plot.title('Number of Loans based on Risk Factor')\n",
    "plot.xlabel('Risk Level')\n",
    "plot.ylabel('Loan Count')\n",
    "\n",
    "df['Risk Factor'].value_counts().plot('bar')"
   ]
  },
  {
   "cell_type": "code",
   "execution_count": 48,
   "metadata": {},
   "outputs": [
    {
     "data": {
      "image/png": "[encoded data removed]",
      "text/plain": [
       "<Figure size 432x288 with 1 Axes>"
      ]
     },
     "metadata": {},
     "output_type": "display_data"
    }
   ],
   "source": [
    "import pandas as pd\n",
    "import matplotlib.pyplot as plot\n",
    "\n",
    "%matplotlib inline\n",
    "\n",
    "df = pd.read_csv(os.getcwd()+'/MF_Data.csv') #toy dataset\n",
    "df.head()\n",
    "\n",
    "plot.title('Percentage of Status of loans which are funded')\n",
    "Loan_status = [\"Fully Paid\",\"Charged off\",\"Default\"]\n",
    "count_LS = df['loan_status'].value_counts()\n",
    "colors = [\"#1f77b4\", \"#ff7f0e\", \"#2ca02c\"] \n",
    "plot.pie(count_LS,labels=Loan_status,autopct='%1.1f%%', shadow=True, startangle=140,colors=colors)\n",
    "\n",
    "plot.show()"
   ]
  },
  {
   "cell_type": "code",
   "execution_count": null,
   "metadata": {},
   "outputs": [],
   "source": []
  }
 ],
 "metadata": {
  "kernelspec": {
   "display_name": "Python 3",
   "language": "python",
   "name": "python3"
  },
  "language_info": {
   "codemirror_mode": {
    "name": "ipython",
    "version": 3
   },
   "file_extension": ".py",
   "mimetype": "text/x-python",
   "name": "python",
   "nbconvert_exporter": "python",
   "pygments_lexer": "ipython3",
   "version": "3.7.1"
  }
 },
 "nbformat": 4,
 "nbformat_minor": 2
}
